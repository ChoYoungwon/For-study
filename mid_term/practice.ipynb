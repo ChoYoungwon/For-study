{
 "cells": [
  {
   "cell_type": "code",
   "execution_count": 2,
   "id": "initial_id",
   "metadata": {
    "collapsed": true,
    "ExecuteTime": {
     "end_time": "2024-04-22T02:16:21.259202Z",
     "start_time": "2024-04-22T02:16:21.252605Z"
    }
   },
   "outputs": [
    {
     "name": "stdout",
     "output_type": "stream",
     "text": [
      "1\n"
     ]
    }
   ],
   "source": [
    "def gcd(a, b):\n",
    "    while b!= 0:\n",
    "        r = a % b\n",
    "        a = b\n",
    "        b = r\n",
    "    return a \n",
    "\n",
    "print(gcd(5, 2))"
   ]
  },
  {
   "cell_type": "code",
   "outputs": [
    {
     "name": "stdout",
     "output_type": "stream",
     "text": [
      "120\n"
     ]
    }
   ],
   "source": [
    "def factorial(n):\n",
    "    if n == 1:\n",
    "        return 1\n",
    "    else:\n",
    "        return n * factorial(n-1)\n",
    "\n",
    "print(factorial(5))"
   ],
   "metadata": {
    "collapsed": false,
    "ExecuteTime": {
     "end_time": "2024-04-22T03:00:49.301278Z",
     "start_time": "2024-04-22T03:00:49.273358Z"
    }
   },
   "id": "48a8147e6fda742c",
   "execution_count": 3
  },
  {
   "cell_type": "code",
   "outputs": [
    {
     "name": "stdout",
     "output_type": "stream",
     "text": [
      "120\n"
     ]
    }
   ],
   "source": [
    "def factorial(n):\n",
    "    result = 1\n",
    "    for i in range(n, 0, -1):\n",
    "        result *= i\n",
    "    return result\n",
    "\n",
    "print(factorial(5))"
   ],
   "metadata": {
    "collapsed": false,
    "ExecuteTime": {
     "end_time": "2024-04-22T03:09:53.363074Z",
     "start_time": "2024-04-22T03:09:53.349321Z"
    }
   },
   "id": "2990cd9c096771ec",
   "execution_count": 4
  },
  {
   "cell_type": "code",
   "outputs": [
    {
     "name": "stdout",
     "output_type": "stream",
     "text": [
      "원판 1: A ---> C\n",
      "원판 2: A ---> B\n",
      "원판 1: C ---> B\n",
      "원판 3: A ---> C\n",
      "원판 1: B ---> A\n",
      "원판 2: B ---> C\n",
      "원판 1: A ---> C\n",
      "원판 4: A ---> B\n",
      "원판 1: C ---> B\n",
      "원판 2: C ---> A\n",
      "원판 1: B ---> A\n",
      "원판 3: C ---> B\n",
      "원판 1: A ---> C\n",
      "원판 2: A ---> B\n",
      "원판 1: C ---> B\n",
      "원판 5: A ---> C\n",
      "원판 1: B ---> A\n",
      "원판 2: B ---> C\n",
      "원판 1: A ---> C\n",
      "원판 3: B ---> A\n",
      "원판 1: C ---> B\n",
      "원판 2: C ---> A\n",
      "원판 1: B ---> A\n",
      "원판 4: B ---> C\n",
      "원판 1: A ---> C\n",
      "원판 2: A ---> B\n",
      "원판 1: C ---> B\n",
      "원판 3: A ---> C\n",
      "원판 1: B ---> A\n",
      "원판 2: B ---> C\n",
      "원판 1: A ---> C\n"
     ]
    }
   ],
   "source": [
    "def hanoi_tower(n, fr, tmp, to):\n",
    "    if n == 1:\n",
    "        print(\"원판 1: %s ---> %s\" % (fr, to))\n",
    "    else:\n",
    "        hanoi_tower(n-1, fr, to, tmp)\n",
    "        print(\"원판 %d: %s ---> %s\" % (n, fr, to))\n",
    "        hanoi_tower(n-1, tmp, fr, to)\n",
    "    \n",
    "hanoi_tower(5, 'A', 'B', 'C')"
   ],
   "metadata": {
    "collapsed": false,
    "ExecuteTime": {
     "end_time": "2024-04-22T03:15:59.154722Z",
     "start_time": "2024-04-22T03:15:59.143992Z"
    }
   },
   "id": "7e7458d30d459c85",
   "execution_count": 6
  },
  {
   "cell_type": "code",
   "outputs": [
    {
     "name": "stdout",
     "output_type": "stream",
     "text": [
      "[2, 3, 4, 5]\n"
     ]
    }
   ],
   "source": [
    "def selection_sort(A):\n",
    "    n = len(A)\n",
    "    for i in range(n):\n",
    "        least = i\n",
    "        for j in range(i+1, n):\n",
    "            if (A[j] < A[least]):\n",
    "                least = j\n",
    "            A[i], A[least] = A[least], A[i]\n",
    "li = [3, 2, 5, 4]\n",
    "selection_sort(li)\n",
    "print(li)"
   ],
   "metadata": {
    "collapsed": false,
    "ExecuteTime": {
     "end_time": "2024-04-22T04:51:33.218727Z",
     "start_time": "2024-04-22T04:51:33.186753Z"
    }
   },
   "id": "a19bd26bfd69bd84",
   "execution_count": 7
  },
  {
   "cell_type": "code",
   "outputs": [],
   "source": [
    "NO_OF_CHARS = 128\n",
    "def shift_table(pat):\n",
    "    m = len(pat)\n",
    "    tbl = [m]*NO_OF_CHARS\n",
    "    \n",
    "    for i in range(m-1):\n",
    "        tbl[ord(pat[i])] = m-1-i\n",
    "        \n",
    "    return tbl"
   ],
   "metadata": {
    "collapsed": false,
    "ExecuteTime": {
     "end_time": "2024-04-22T05:15:07.542194Z",
     "start_time": "2024-04-22T05:15:07.534300Z"
    }
   },
   "id": "aba9b18956c1b276",
   "execution_count": 16
  },
  {
   "cell_type": "code",
   "outputs": [
    {
     "name": "stdout",
     "output_type": "stream",
     "text": [
      "2\n"
     ]
    }
   ],
   "source": [
    "def search_horspool(T, P):\n",
    "    m = len(P)\n",
    "    n = len(T)\n",
    "    t = shift_table(P)\n",
    "    i = m-1\n",
    "    while i <= n-1:\n",
    "        k = 0\n",
    "        while k <= m-1 and P[m-1-k]==T[i-k]:\n",
    "            k += 1\n",
    "        if k == m:\n",
    "            return i-m+1\n",
    "        else:\n",
    "            tc = t[ord(T[i-k])]\n",
    "            i += (tc - k)\n",
    "    return -1\n",
    "\n",
    "print(search_horspool(\"abcde\", \"cde\"))"
   ],
   "metadata": {
    "collapsed": false,
    "ExecuteTime": {
     "end_time": "2024-04-22T05:18:17.216450Z",
     "start_time": "2024-04-22T05:18:17.205723Z"
    }
   },
   "id": "4ea968fcfa09dc17",
   "execution_count": 21
  },
  {
   "cell_type": "code",
   "outputs": [
    {
     "name": "stdout",
     "output_type": "stream",
     "text": [
      "step 1 [1351, 1551, 1235, 3315, 2315, 4316, 3326, 3566, 2158]\n",
      "step 2 [3315, 2315, 4316, 3326, 1235, 1351, 1551, 2158, 3566]\n",
      "step 3 [2158, 1235, 3315, 2315, 4316, 3326, 1351, 1551, 3566]\n",
      "step 4 [1235, 1351, 1551, 2158, 2315, 3315, 3326, 3566, 4316]\n"
     ]
    }
   ],
   "source": [
    "BUCKETS = 10\n",
    "DIGITS = 4\n",
    "\n",
    "from queue import Queue\n",
    "def radix_sort(A):\n",
    "    queues = []\n",
    "    for i in range(BUCKETS):\n",
    "        queues.append(Queue())\n",
    "    n = len(A)\n",
    "    factor = 1\n",
    "    for d in range(DIGITS):\n",
    "        for i in range(n):\n",
    "            queues[(A[i]//factor)%BUCKETS].put(A[i])\n",
    "        j = 0\n",
    "        for b in range(BUCKETS):\n",
    "            while not queues[b].empty():\n",
    "                A[j] = queues[b].get()\n",
    "                j += 1\n",
    "        factor *= BUCKETS\n",
    "        print(\"step\", d+1, A)\n",
    "\n",
    "radix_sort([1235, 2158, 3315, 4316, 1351, 2315, 3326, 1551, 3566])"
   ],
   "metadata": {
    "collapsed": false,
    "ExecuteTime": {
     "end_time": "2024-04-22T05:27:29.589386Z",
     "start_time": "2024-04-22T05:27:29.575594Z"
    }
   },
   "id": "e98c518697e1c443",
   "execution_count": 22
  },
  {
   "cell_type": "code",
   "outputs": [
    {
     "data": {
      "text/plain": "8"
     },
     "execution_count": 29,
     "metadata": {},
     "output_type": "execute_result"
    }
   ],
   "source": [
    "def fib(n):\n",
    "    if n == 0:\n",
    "        return 0\n",
    "    elif n == 1:\n",
    "        return 1\n",
    "    else:\n",
    "        return fib(n-1) + fib(n-2)\n",
    "\n",
    "fib(6)"
   ],
   "metadata": {
    "collapsed": false,
    "ExecuteTime": {
     "end_time": "2024-04-22T05:33:18.288536Z",
     "start_time": "2024-04-22T05:33:18.268055Z"
    }
   },
   "id": "4d807e6a0b485c7e",
   "execution_count": 29
  },
  {
   "cell_type": "code",
   "outputs": [
    {
     "data": {
      "text/plain": "8"
     },
     "execution_count": 30,
     "metadata": {},
     "output_type": "execute_result"
    }
   ],
   "source": [
    "def fib_iter(n):\n",
    "    if (n < 2): return n\n",
    "    last = 0\n",
    "    current = 1\n",
    "    for i in range(2, n+1):\n",
    "        tmp = current\n",
    "        current += last\n",
    "        last = tmp\n",
    "    return current\n",
    "fib(6)"
   ],
   "metadata": {
    "collapsed": false,
    "ExecuteTime": {
     "end_time": "2024-04-22T05:37:01.551680Z",
     "start_time": "2024-04-22T05:37:01.536915Z"
    }
   },
   "id": "b32d2fdd35856e30",
   "execution_count": 30
  },
  {
   "cell_type": "code",
   "outputs": [
    {
     "data": {
      "text/plain": "8"
     },
     "execution_count": 32,
     "metadata": {},
     "output_type": "execute_result"
    }
   ],
   "source": [
    "def multMat(x, y):\n",
    "    i = x[0][0]*y[0][0] + x[0][1]*y[1][0]\n",
    "    j = x[0][0]*y[0][1] + x[0][1]*y[1][1]\n",
    "    k = x[1][0]*y[0][0] + x[1][1]*y[1][0]\n",
    "    l = x[1][0]*y[0][1] + x[1][1]*y[1][1]\n",
    "    return [[i,j],[k,l]]\n",
    "\n",
    "def powerMat(x, n):\n",
    "    if n == 1:\n",
    "        return x\n",
    "    elif (n % 2) == 0:\n",
    "        return powerMat(multMat(x, x), n // 2)\n",
    "    else:\n",
    "        return multMat(x, powerMat(multMat(x,x), (n-1) //2))\n",
    "    \n",
    "def fib_mat(n):\n",
    "    if n < 2:\n",
    "        return n\n",
    "    mat = [[1, 1], [1, 0]]\n",
    "    result = powerMat(mat, n)\n",
    "    return result[0][1]\n",
    "\n",
    "fib_mat(6)"
   ],
   "metadata": {
    "collapsed": false,
    "ExecuteTime": {
     "end_time": "2024-04-22T05:52:51.778331Z",
     "start_time": "2024-04-22T05:52:51.764498Z"
    }
   },
   "id": "967e0c130cad71d6",
   "execution_count": 32
  },
  {
   "cell_type": "code",
   "outputs": [
    {
     "name": "stdout",
     "output_type": "stream",
     "text": [
      "[[ 0  2]\n",
      " [ 8 16]]\n"
     ]
    }
   ],
   "source": [
    "import numpy as np\n",
    "def multiply(A, B, C):\n",
    "    n = len(A)\n",
    "    for i in range(n):\n",
    "        for j in range(n):\n",
    "            C[i][j] = 0\n",
    "            for k in range(n):\n",
    "                C[i][j] += A[i][k]*B[k][j]\n",
    "A = np.array([[0, 1], [2, 3]])\n",
    "B = np.array([[4, 5], [0, 2]])\n",
    "C = np.array([[0, 0], [0, 0]])\n",
    "multiply(A, B, C)\n",
    "print(C)"
   ],
   "metadata": {
    "collapsed": false,
    "ExecuteTime": {
     "end_time": "2024-04-22T06:05:01.388467Z",
     "start_time": "2024-04-22T06:05:00.627801Z"
    }
   },
   "id": "2b7a9e4503d0c8b9",
   "execution_count": 33
  },
  {
   "cell_type": "code",
   "outputs": [
    {
     "name": "stdout",
     "output_type": "stream",
     "text": [
      "[5, 3, 8, 4, 9, 1, 6, 2, 7]\n",
      "[1, 2, 3, 4, 5, 6, 7, 8, 9]\n"
     ]
    }
   ],
   "source": [
    "def partition(A, left, right):\n",
    "    low = left + 1\n",
    "    high = right\n",
    "    pivot = A[left]\n",
    "    while low <= high:\n",
    "        while low <= right and A[low] <= pivot : low += 1\n",
    "        while high >= left and A[high] > pivot : high -= 1\n",
    "        \n",
    "        if low < high:\n",
    "            A[low], A[high] = A[high], A[low]\n",
    "            \n",
    "    A[left], A[high] = A[high], A[left]\n",
    "    return high \n",
    "\n",
    "def quick_sort(A, left, right):\n",
    "    if left < right:\n",
    "        mid = partition(A, left, right)\n",
    "        quick_sort(A, left, mid-1)\n",
    "        quick_sort(A, mid+1, right)\n",
    "\n",
    "data = [5, 3, 8, 4, 9, 1, 6, 2, 7]\n",
    "print(data)\n",
    "quick_sort(data, 0, len(data)-1)\n",
    "print(data)"
   ],
   "metadata": {
    "collapsed": false,
    "ExecuteTime": {
     "end_time": "2024-04-22T06:14:28.799672Z",
     "start_time": "2024-04-22T06:14:28.783868Z"
    }
   },
   "id": "4a3198aea20c5c22",
   "execution_count": 34
  },
  {
   "cell_type": "code",
   "outputs": [
    {
     "name": "stdout",
     "output_type": "stream",
     "text": [
      "[5, 3, 8, 4, 9, 1, 6, 2, 7]\n",
      "[1, 2, 3, 4, 5, 6, 7, 8, 9]\n"
     ]
    }
   ],
   "source": [
    "\n",
    "def merge(A, left, mid, right):\n",
    "    k = left\n",
    "    i = left\n",
    "    j = mid +1\n",
    "    while i <= mid and j <= right:\n",
    "        if A[i] <= A[j]:\n",
    "            sorted[k] = A[i]\n",
    "            i, k = i+1, k+1\n",
    "        else:\n",
    "            sorted[k] = A[j]\n",
    "            j, k = j+1, k+1\n",
    "    \n",
    "    if i > mid:\n",
    "        sorted[k:k+right-j+1] = A[j:right+1]\n",
    "    else:\n",
    "        sorted[k:k+mid-i+1] = A[i:mid+1]\n",
    "\n",
    "    A[left:right+1] = sorted[left:right+1]\n",
    "\n",
    "def merge_sort(A, left, right):\n",
    "    if left < right:\n",
    "        mid = (left + right) // 2\n",
    "        merge_sort(A, left, mid)\n",
    "        merge_sort(A, mid+1, right)\n",
    "        merge(A, left, mid, right)\n",
    "A = [5,3,8,4,9,1,6,2,7]        \n",
    "sorted = [0]*len(A)\n",
    "print(A)\n",
    "merge_sort(A, 0, len(A)-1)\n",
    "print(A)\n"
   ],
   "metadata": {
    "collapsed": false,
    "ExecuteTime": {
     "end_time": "2024-04-22T06:23:04.545755Z",
     "start_time": "2024-04-22T06:23:04.531961Z"
    }
   },
   "id": "1ed427ac8fe6c199",
   "execution_count": 36
  },
  {
   "cell_type": "code",
   "outputs": [],
   "source": [
    "def insertion_sort(A):\n",
    "    n = len(A)\n",
    "    for i in range(1, n):\n",
    "        key = A[i]\n",
    "        j = i - 1\n",
    "        while j >= 0 and A[j] > key:\n",
    "            A[j + 1] = A[j]\n",
    "            j = j - 1\n",
    "        A[j+1] = key"
   ],
   "metadata": {
    "collapsed": false,
    "ExecuteTime": {
     "end_time": "2024-04-22T06:30:50.751729Z",
     "start_time": "2024-04-22T06:30:50.743446Z"
    }
   },
   "id": "dfb1a6d82a30a051",
   "execution_count": 37
  },
  {
   "cell_type": "code",
   "outputs": [],
   "source": [],
   "metadata": {
    "collapsed": false
   },
   "id": "9bf4f373df8e4e37"
  }
 ],
 "metadata": {
  "kernelspec": {
   "display_name": "Python 3",
   "language": "python",
   "name": "python3"
  },
  "language_info": {
   "codemirror_mode": {
    "name": "ipython",
    "version": 2
   },
   "file_extension": ".py",
   "mimetype": "text/x-python",
   "name": "python",
   "nbconvert_exporter": "python",
   "pygments_lexer": "ipython2",
   "version": "2.7.6"
  }
 },
 "nbformat": 4,
 "nbformat_minor": 5
}
