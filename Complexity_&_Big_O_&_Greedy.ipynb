{
  "nbformat": 4,
  "nbformat_minor": 0,
  "metadata": {
    "colab": {
      "provenance": []
    },
    "kernelspec": {
      "name": "python3",
      "display_name": "Python 3"
    },
    "language_info": {
      "name": "python"
    }
  },
  "cells": [
    {
      "cell_type": "code",
      "execution_count": null,
      "metadata": {
        "colab": {
          "base_uri": "https://localhost:8080/"
        },
        "id": "GXOEkYyH_k7y",
        "outputId": "7342806b-829a-4ca0-e11c-444fb8e3fc1d"
      },
      "outputs": [
        {
          "output_type": "stream",
          "name": "stdout",
          "text": [
            "hello\n"
          ]
        }
      ],
      "source": [
        "print('hello')"
      ]
    },
    {
      "cell_type": "markdown",
      "source": [
        "### 로그 시간\n",
        "- 입력 크기가 두 배가 될 때마다 한 단계씩 증가\n",
        "- 예: 검색 : 이진검색, 균형 이진 트리\n",
        "- N < 5,000 정도까지 가능"
      ],
      "metadata": {
        "id": "w9XriTW6EkXu"
      }
    },
    {
      "cell_type": "code",
      "source": [
        "def binary_search(arr, target):\n",
        "    left, right = 0, len(arr) - 1\n",
        "    while left <= right:\n",
        "        mid = (left + right) // 2\n",
        "        if arr[mid] == target:\n",
        "            return mid\n",
        "        elif arr[mid] < target:\n",
        "            left = mid + 1\n",
        "        else:\n",
        "            right = mid - 1\n",
        "    return -1"
      ],
      "metadata": {
        "id": "uds-Oaxk_8MC"
      },
      "execution_count": null,
      "outputs": []
    },
    {
      "cell_type": "markdown",
      "source": [
        "### 2차 시간\n",
        "- 입력크기의 제곱에 비례해서 시간 증가\n",
        "- N = 5,000개 정도까지\n",
        "- 이중 반복문\n",
        "\n",
        "### 3차 시간\n",
        "- 입력크기의 제곱에 비례해서 시간 증가\n",
        "- N = 170 정도까지 가능\n",
        "- 삼중 반복문\n",
        "\n",
        "### 지수 시간\n",
        "- 부분집합 생성, 완전탐색\n",
        "- N = 20 정도까지 가능"
      ],
      "metadata": {
        "id": "_BysTnGHE3cE"
      }
    },
    {
      "cell_type": "code",
      "source": [
        "n = 10;\n",
        "for i in range(n):\n",
        "  for j in range(n):\n",
        "    for k in range(n):\n",
        "      print('hello ', end=\"\")"
      ],
      "metadata": {
        "colab": {
          "base_uri": "https://localhost:8080/"
        },
        "id": "pJtAAwYBEn3c",
        "outputId": "81180fa6-4b56-427e-b414-94735bd6cf19"
      },
      "execution_count": null,
      "outputs": [
        {
          "output_type": "stream",
          "name": "stdout",
          "text": [
            "hello hello hello hello hello hello hello hello hello hello hello hello hello hello hello hello hello hello hello hello hello hello hello hello hello hello hello hello hello hello hello hello hello hello hello hello hello hello hello hello hello hello hello hello hello hello hello hello hello hello hello hello hello hello hello hello hello hello hello hello hello hello hello hello hello hello hello hello hello hello hello hello hello hello hello hello hello hello hello hello hello hello hello hello hello hello hello hello hello hello hello hello hello hello hello hello hello hello hello hello hello hello hello hello hello hello hello hello hello hello hello hello hello hello hello hello hello hello hello hello hello hello hello hello hello hello hello hello hello hello hello hello hello hello hello hello hello hello hello hello hello hello hello hello hello hello hello hello hello hello hello hello hello hello hello hello hello hello hello hello hello hello hello hello hello hello hello hello hello hello hello hello hello hello hello hello hello hello hello hello hello hello hello hello hello hello hello hello hello hello hello hello hello hello hello hello hello hello hello hello hello hello hello hello hello hello hello hello hello hello hello hello hello hello hello hello hello hello hello hello hello hello hello hello hello hello hello hello hello hello hello hello hello hello hello hello hello hello hello hello hello hello hello hello hello hello hello hello hello hello hello hello hello hello hello hello hello hello hello hello hello hello hello hello hello hello hello hello hello hello hello hello hello hello hello hello hello hello hello hello hello hello hello hello hello hello hello hello hello hello hello hello hello hello hello hello hello hello hello hello hello hello hello hello hello hello hello hello hello hello hello hello hello hello hello hello hello hello hello hello hello hello hello hello hello hello hello hello hello hello hello hello hello hello hello hello hello hello hello hello hello hello hello hello hello hello hello hello hello hello hello hello hello hello hello hello hello hello hello hello hello hello hello hello hello hello hello hello hello hello hello hello hello hello hello hello hello hello hello hello hello hello hello hello hello hello hello hello hello hello hello hello hello hello hello hello hello hello hello hello hello hello hello hello hello hello hello hello hello hello hello hello hello hello hello hello hello hello hello hello hello hello hello hello hello hello hello hello hello hello hello hello hello hello hello hello hello hello hello hello hello hello hello hello hello hello hello hello hello hello hello hello hello hello hello hello hello hello hello hello hello hello hello hello hello hello hello hello hello hello hello hello hello hello hello hello hello hello hello hello hello hello hello hello hello hello hello hello hello hello hello hello hello hello hello hello hello hello hello hello hello hello hello hello hello hello hello hello hello hello hello hello hello hello hello hello hello hello hello hello hello hello hello hello hello hello hello hello hello hello hello hello hello hello hello hello hello hello hello hello hello hello hello hello hello hello hello hello hello hello hello hello hello hello hello hello hello hello hello hello hello hello hello hello hello hello hello hello hello hello hello hello hello hello hello hello hello hello hello hello hello hello hello hello hello hello hello hello hello hello hello hello hello hello hello hello hello hello hello hello hello hello hello hello hello hello hello hello hello hello hello hello hello hello hello hello hello hello hello hello hello hello hello hello hello hello hello hello hello hello hello hello hello hello hello hello hello hello hello hello hello hello hello hello hello hello hello hello hello hello hello hello hello hello hello hello hello hello hello hello hello hello hello hello hello hello hello hello hello hello hello hello hello hello hello hello hello hello hello hello hello hello hello hello hello hello hello hello hello hello hello hello hello hello hello hello hello hello hello hello hello hello hello hello hello hello hello hello hello hello hello hello hello hello hello hello hello hello hello hello hello hello hello hello hello hello hello hello hello hello hello hello hello hello hello hello hello hello hello hello hello hello hello hello hello hello hello hello hello hello hello hello hello hello hello hello hello hello hello hello hello hello hello hello hello hello hello hello hello hello hello hello hello hello hello hello hello hello hello hello hello hello hello hello hello hello hello hello hello hello hello hello hello hello hello hello hello hello hello hello hello hello hello hello hello hello hello hello hello hello hello hello hello hello hello hello hello hello hello hello hello hello hello hello hello hello hello hello hello hello hello hello hello hello hello hello hello hello hello hello hello hello hello hello hello hello hello hello hello hello hello hello hello hello hello hello hello hello hello hello hello hello hello hello hello hello hello hello hello hello hello hello hello hello hello hello hello hello hello hello hello hello hello hello hello hello hello hello hello hello hello hello hello hello hello hello hello hello hello hello hello hello hello hello hello hello hello hello hello hello hello hello hello hello hello hello hello hello hello hello hello hello hello hello hello hello hello hello hello hello hello hello hello hello hello hello hello hello hello hello hello hello hello hello hello hello hello hello hello hello hello hello hello hello hello hello hello hello hello hello hello hello hello hello hello hello hello hello hello hello hello hello hello hello hello hello hello hello hello hello hello hello hello hello hello hello hello hello hello hello hello hello hello hello hello hello hello hello hello hello "
          ]
        }
      ]
    },
    {
      "cell_type": "code",
      "source": [
        "N = 100\n",
        "\n",
        "N ** 3"
      ],
      "metadata": {
        "colab": {
          "base_uri": "https://localhost:8080/"
        },
        "id": "VEIRi1fnFKOJ",
        "outputId": "57afe781-7fbb-422b-a88d-19e50edc26cd"
      },
      "execution_count": null,
      "outputs": [
        {
          "output_type": "execute_result",
          "data": {
            "text/plain": [
              "1000000"
            ]
          },
          "metadata": {},
          "execution_count": 10
        }
      ]
    },
    {
      "cell_type": "markdown",
      "source": [
        "파이썬의 연산 : 1초에 2천만번"
      ],
      "metadata": {
        "id": "5rvXYzo5IJsk"
      }
    },
    {
      "cell_type": "markdown",
      "source": [
        "### 그리디(Greedy) 알고리즘\n",
        "- 근시안적이다 : 당장 눈앞의 의사결정(Local)을 항상 최적으로 한다.\n",
        "- 최적의 의사결정(Optimized Local solution)들이 모여서 최적의 global solution을 찾는다.\n",
        "- 대부분의 경우 : min / max"
      ],
      "metadata": {
        "id": "Sode4Uc7OurM"
      }
    },
    {
      "cell_type": "code",
      "source": [
        "usable_coins = [500, 100, 50, 10]\n",
        "\n",
        "N = 730\n",
        "\n",
        "count = 0\n",
        "\n",
        "for coins in usable_coins:\n",
        "  count += N // coins\n",
        "  N %= coins\n",
        "\n",
        "print(count)"
      ],
      "metadata": {
        "colab": {
          "base_uri": "https://localhost:8080/"
        },
        "id": "646PEbBlFvj2",
        "outputId": "6b690a37-bf2e-409c-d3c1-338e55f3ca28"
      },
      "execution_count": null,
      "outputs": [
        {
          "output_type": "stream",
          "name": "stdout",
          "text": [
            "6\n"
          ]
        }
      ]
    },
    {
      "cell_type": "markdown",
      "source": [
        "Optimization / Solution 찾는 문제: Min / Max\n",
        "1. 그리디\n",
        "2. 다이나믹 프로그래밍\n",
        "3. 그래프 알고리즘"
      ],
      "metadata": {
        "id": "Js35GWiuRHWJ"
      }
    },
    {
      "cell_type": "code",
      "source": [
        "def fractional_knapsack(items :list[tuple[int, int]], capacity :int):\n",
        "  # items [(가치, 무게)...]\n",
        "  # 단위 무게당 가치로 정렬\n",
        "\n",
        "  items.sort(key = lambda x : x[0]/x[1] if x[1] != 0 else float('inf'), reverse = True)\n",
        "  # print(items)\n",
        "\n",
        "  total_value = 0\n",
        "\n",
        "  for value, weight in items:\n",
        "    if weight == 0:\n",
        "      pass\n",
        "    elif capacity >= weight:\n",
        "      capacity -= weight\n",
        "      total_value += value\n",
        "    else:\n",
        "        total_value += value * (capacity / weight)\n",
        "\n",
        "  return total_value\n",
        "\n",
        "# items = [(60, 10), (80, 40), (100, 20), (120, 30), (140, 50)]\n",
        "# capacity = 60\n",
        "\n",
        "items = [(60, 10), (100, 20), (120, 30)]\n",
        "capacity = 50\n",
        "\n",
        "fractional_knapsack(items, capacity)"
      ],
      "metadata": {
        "colab": {
          "base_uri": "https://localhost:8080/"
        },
        "id": "-N3sbhOVRAXk",
        "outputId": "9703573c-1976-4466-f464-68fe642b68ed"
      },
      "execution_count": null,
      "outputs": [
        {
          "output_type": "execute_result",
          "data": {
            "text/plain": [
              "240.0"
            ]
          },
          "metadata": {},
          "execution_count": 23
        }
      ]
    },
    {
      "cell_type": "markdown",
      "source": [
        "---\n",
        "### [실습]\n",
        "- 풀이시간 : 30분\n",
        "- 시간제한 : 1초 <- 입력-> 출력까지 걸리는 총 시간.\n",
        "- 메모리 제한 : 128mb\n",
        "\n",
        "---\n",
        "\n",
        "N 개의 수로 이루어진 배열이 있을 때 주어진 수들을 M 번 더해서 가장 큰 수를 찾는 법\n",
        "단, 배열의 특정한 인덱스에 해당되는 수를 연속해서 K 번 더할 수 없다.\n",
        "\n",
        "예) 2,4,5,4,6, M=8, K=3\n",
        "\n",
        "- 입력조건 :  \n",
        "    - N: 2 이상 1000 보다 작거나 같을 것\n",
        "    - M : 1<= M <= 10,000\n",
        "    - K : 1<= K <= 10,000\n",
        "N 개의 자연수를 입력, 자연수는 공백으로 구분된다. 각각의 자연수는  1이상 10000 이하\n",
        "\n",
        "K는 항상 M보다 작거나 같다."
      ],
      "metadata": {
        "id": "Px59nNL5Z4bZ"
      }
    },
    {
      "cell_type": "code",
      "source": [
        "# 입력예시\n",
        "# 5 8 3 # < - N M K\n",
        "# 2 4 5 4 6  # < - Number set\n",
        "\n",
        "n, m, k = map(int, input().split())"
      ],
      "metadata": {
        "colab": {
          "base_uri": "https://localhost:8080/"
        },
        "id": "PMn3D-g-bPO5",
        "outputId": "64854ed2-2a4c-4bda-ae5c-766b05c34708"
      },
      "execution_count": null,
      "outputs": [
        {
          "name": "stdout",
          "output_type": "stream",
          "text": [
            "5 4 2\n"
          ]
        }
      ]
    },
    {
      "cell_type": "code",
      "source": [
        "# 내 코드\n",
        "def max_sum(args: list[int], M: int, K: int):\n",
        "  count, sum = 0, 0\n",
        "  args.sort(reverse = True)\n",
        "  while True:\n",
        "    for _ in range(K):\n",
        "      if M == 0:\n",
        "        break\n",
        "      sum += args[0]\n",
        "      M -= 1\n",
        "    if M == 0:\n",
        "      break\n",
        "    sum += args[1]\n",
        "    M -= 1\n",
        "  return sum\n",
        "\n",
        "max_sum([2,4,5,4,6], 8, 3)"
      ],
      "metadata": {
        "colab": {
          "base_uri": "https://localhost:8080/"
        },
        "id": "Tmj9XWsfYrda",
        "outputId": "baa9787d-82df-4972-a5f8-bbb9a7fb0d11"
      },
      "execution_count": 7,
      "outputs": [
        {
          "output_type": "execute_result",
          "data": {
            "text/plain": [
              "46"
            ]
          },
          "metadata": {},
          "execution_count": 7
        }
      ]
    },
    {
      "cell_type": "code",
      "source": [
        "# 답안 코드\n",
        "n, m, k = map(int, input().split())\n",
        "data = list(map(int, input().split()))\n",
        "\n",
        "data.sort()\n",
        "print()\n",
        "print()\n",
        "print(data[n-1])\n",
        "print(data[n-2])\n",
        "\n",
        "first = data[-1]\n",
        "second = data[-2]\n",
        "\n",
        "# k = 3\n",
        "# 6 + 6 + 6 + 5  : 1 set K + 1 = 4개\n",
        "# m = 8\n",
        "# m / 1set = 2 set : 6 + 6 + 6 + 5 + 6 + 6 + 6 + 5\n",
        "\n",
        "#8 / 4 = 2  : 6(first) *3(k)*2\n",
        "\n",
        "first_count = int(m/(k+1))*k\n",
        "result = 0\n",
        "\n",
        "result += (first_count) * first\n",
        "result += (m - first_count) * second\n",
        "print(result)\n"
      ],
      "metadata": {
        "colab": {
          "base_uri": "https://localhost:8080/"
        },
        "id": "zHMIfWQnsN51",
        "outputId": "148b2103-55b2-4ce5-bb82-1ad21bd1f3f1"
      },
      "execution_count": 2,
      "outputs": [
        {
          "output_type": "stream",
          "name": "stdout",
          "text": [
            "5 8 3\n",
            "2 4 5 4 6\n",
            "\n",
            "\n",
            "6\n",
            "5\n",
            "46\n"
          ]
        }
      ]
    },
    {
      "cell_type": "markdown",
      "source": [
        "[체육복]\n",
        "\n",
        "학교에서 체육수업을 하려고 합니다.\n",
        "학생들은 체육복을 가져와야 하는데, 일부 학생이 체육복을 도난당했습니다. <br>\n",
        "다행히도 여벌의 체육복을 가져온 학생이 있어서, 체육복이 없는 학생에게 빌려줄 수 있습니다. <br>\n",
        "단, 체육복은 바로 앞번호나 뒷번호의 학생에게만 빌려줄 수 있습니다. <br>\n",
        "\n",
        "전체 학생 수 n, 체육복을 도난당한 학생들의 번호가 담긴 배열 lost, <br>\n",
        "여벌의 체육복을 가져온 학생들의 번호가 담긴 배열 reserve가 매개변수로 주어질 때, <br>\n",
        "체육수업을 들을 수 있는 학생의 최대값을 구하는 프로그램을 작성하세요.\n",
        "\n",
        "---\n",
        "\n",
        "입력:\n",
        "n: 전체 학생 수 (2 ≤ n ≤ 30) <br>\n",
        "lost: 체육복을 도난당한 학생들의 번호 배열 <br>\n",
        "reserve: 여벌의 체육복을 가져온 학생들의 번호 배열 <br>"
      ],
      "metadata": {
        "id": "91_nKfTDdoNR"
      }
    },
    {
      "cell_type": "code",
      "source": [
        "# 예시:\n",
        "# 입력: n = 5, lost = [2, 4], reserve = [1, 3, 5]\n",
        "# 출력: 5 (모든 학생이 체육수업을 들을 수 있음)\n",
        "\n",
        "# 입력: n = 5, lost = [2, 4], reserve = [3]\n",
        "# 출력: 4 (4번 학생은 체육복을 빌리지 못함)"
      ],
      "metadata": {
        "id": "MW4ykjFXcjtI"
      },
      "execution_count": null,
      "outputs": []
    },
    {
      "cell_type": "code",
      "source": [
        "# 내 코드1\n",
        "def cloth_reserve(reserve, lost, n):\n",
        "  reserve.sort()\n",
        "  lost.sort()\n",
        "  get = 0\n",
        "  give = 0\n",
        "  count = 0\n",
        "\n",
        "  for _lost in lost:\n",
        "    for _reserve in reserve:\n",
        "      if abs(_reserve - _lost == 1) and (give != _reserve):\n",
        "        # 값 확인\n",
        "        # print(_lost, end= \" \")\n",
        "        # print(_reserve)\n",
        "        get = _lost\n",
        "        giv = _reserve\n",
        "        count += 1\n",
        "  return n - len(lost) + count\n",
        "\n",
        "print(cloth_reserve([1,3,5], [2, 4], 5))\n",
        "print(cloth_reserve([3], [2, 4], 5))\n"
      ],
      "metadata": {
        "colab": {
          "base_uri": "https://localhost:8080/"
        },
        "id": "ci9-HcACeBmQ",
        "outputId": "1fea7747-6981-4781-91a4-6f11ec6966b9"
      },
      "execution_count": null,
      "outputs": [
        {
          "output_type": "stream",
          "name": "stdout",
          "text": [
            "2 3\n",
            "4 5\n",
            "5\n",
            "2 3\n",
            "4\n"
          ]
        }
      ]
    },
    {
      "cell_type": "code",
      "source": [
        "# 답안 코드\n",
        "def solution(n, lost, reserve):\n",
        "    students = [1] * (n + 2)\n",
        "\n",
        "    for l in lost :\n",
        "        students[l] -= 1\n",
        "\n",
        "    for r in reserve:\n",
        "        students[r] += 1\n",
        "\n",
        "    for i in range(1, n+1):\n",
        "        if students[i] == 0:\n",
        "            if students[i-1] == 2:\n",
        "                students[i] = 1\n",
        "                students[i-1] = 1\n",
        "            elif students[i+1] ==2:\n",
        "                students[i] = 1\n",
        "                students[i+1] =1\n",
        "\n",
        "    answer = sum(1 for i in range(1, n+1) if students[i]>0)\n",
        "    return answer\n",
        "\n",
        "solution(5, [2,4], [1,3,5])\n",
        "solution(5, [2,4], [3])"
      ],
      "metadata": {
        "colab": {
          "base_uri": "https://localhost:8080/"
        },
        "id": "xQ3NgBCRkr4o",
        "outputId": "7d6efcf8-e72b-4248-8956-a6bdc2251fbd"
      },
      "execution_count": 8,
      "outputs": [
        {
          "output_type": "execute_result",
          "data": {
            "text/plain": [
              "4"
            ]
          },
          "metadata": {},
          "execution_count": 8
        }
      ]
    },
    {
      "cell_type": "markdown",
      "source": [
        "[회의실 배정]\n",
        "\n",
        "한 개의 회의실에서 N개의 회의를 진행하려고 합니다. 각 회의는 시작 시간과 끝나는 시간이 주어지며, 회의가 겹치지 않게 하면서 회의실을 사용할 수 있는 최대 회의 개수를 구하세요.\n",
        "\n",
        "입력:\n",
        "첫째 줄에 회의의 수 N (1 ≤ N ≤ 100,000)\n",
        "둘째 줄부터 N+1 줄까지 각 회의의 정보가 시작 시간과 끝나는 시간으로 주어집니다."
      ],
      "metadata": {
        "id": "9p8yEo9hs7yW"
      }
    },
    {
      "cell_type": "code",
      "source": [
        "예시:\n",
        "입력:\n",
        "5\n",
        "1 4\n",
        "2 3\n",
        "3 5\n",
        "4 6\n",
        "5 7\n",
        "\n",
        "출력: 3 (2-3, 4-6, 6-7 순서로 3개의 회의를 진행할 수 있음)"
      ],
      "metadata": {
        "id": "7OsjkiU6svLj"
      },
      "execution_count": null,
      "outputs": []
    },
    {
      "cell_type": "code",
      "source": [
        "# 답안 코드\n",
        "def meeting_room(N: int, meetings: list[tuple[int, int]]) -> int:\n",
        "    sorted_meetings = sorted(meetings, key = lambda x : (x[1], x[0]))\n",
        "\n",
        "    count = 1\n",
        "    end_time = sorted_meetings[0][1]\n",
        "    print(sorted_meetings)\n",
        "    for i in range(1, N):\n",
        "        if sorted_meetings[i][0] >= end_time:\n",
        "            count += 1\n",
        "            end_time = sorted_meetings[i][1]\n",
        "\n",
        "    return count\n",
        "N = 5\n",
        "meetings = [ (1, 4), (2, 3),(3,5),(4,6),(5,7)]\n",
        "\n",
        "meeting_room(N, meetings)"
      ],
      "metadata": {
        "colab": {
          "base_uri": "https://localhost:8080/"
        },
        "id": "y357ILKzs_RF",
        "outputId": "78fc5216-30af-46d1-a0b0-251fc6ed7d42"
      },
      "execution_count": 10,
      "outputs": [
        {
          "output_type": "stream",
          "name": "stdout",
          "text": [
            "[(2, 3), (1, 4), (3, 5), (4, 6), (5, 7)]\n"
          ]
        },
        {
          "output_type": "execute_result",
          "data": {
            "text/plain": [
              "3"
            ]
          },
          "metadata": {},
          "execution_count": 10
        }
      ]
    },
    {
      "cell_type": "markdown",
      "source": [
        "## 문제2. 숫자카드 게임\n",
        "###제한조건 : 제한시간 1초, 메모리 128MB\n",
        "여러 개의 숫자 카드 중에서 가장 높은 숫자가 쓰인 카드 한장을 뽑으시오.\n",
        "\n",
        "1. 숫자가 쓰인 카드들이 N*M 형태로 놓여 있다. (N=행 수, M= 열 수)\n",
        "2. 먼저 뽑고자 하는 카드가 포함된 행을 선택한다.\n",
        "3. 선택된 행에 포함된 카드들 중 가장 숫자가 낮은 카드를 뽑는다.\n",
        "4. 2번 단계에서 선택된 행에 포함된 카드들 중 가장 숫자가 낮은 카드를 뽑을 것을 고려하여 최종적으로 가장 높은 숫자의 카드를 뽑을 수 있도록 전략을 짠다."
      ],
      "metadata": {
        "id": "6l4xhTANRvC4"
      }
    },
    {
      "cell_type": "code",
      "source": [
        "def card_game(args: list[list[int]], N: int, M: int):\n",
        "  min_values = [min(row) for row in args]\n",
        "  return max(min_values)\n",
        "\n",
        "args = [\n",
        "    [2, 3, 4],\n",
        "    [1, 5, 6],\n",
        "    [7, 8, 9]\n",
        "]\n",
        "N = 3\n",
        "M = 3\n",
        "card_game(args, N, M)"
      ],
      "metadata": {
        "colab": {
          "base_uri": "https://localhost:8080/"
        },
        "id": "VP3L59ost4f1",
        "outputId": "00e0dc1b-e27a-4e83-91c2-bcb8f870a55f"
      },
      "execution_count": null,
      "outputs": [
        {
          "output_type": "execute_result",
          "data": {
            "text/plain": [
              "7"
            ]
          },
          "metadata": {},
          "execution_count": 69
        }
      ]
    },
    {
      "cell_type": "markdown",
      "source": [
        "## 문제 3.\n",
        "어떠한 수 N 이 1이 될 때까지 다음의 두 과정 중 하나를 반복적으로 선택하여 수행하려고 한다. 단, 두 번째 연산은 N이 K로 나누어 떨어질 때만 선택할 수 있다.\n",
        "\n",
        "1. N에서 1을 뺀다\n",
        "2. N을 K로 나눈다.\n",
        "\n",
        "N과 K가 주어질 때 N이 1이 될 때까지 1번 혹은 2번의 과정을 수행해야 하는 최소 횟수를 구하는 프로그램을 작성하시오.\n",
        "\n",
        "---\n",
        "#### 입력조건\n",
        "* 첫째 줄에 N(2<= N <= 100,000)과 K(2<= K <= 100,000) 가 공백으로 구분되며 각각 자연수로 주어진다. 이때 입력으로 주어지는 N은 항상 K 보다 크거나 같다\n",
        "\n",
        "#### 출력조건\n",
        "* 첫째 줄에 N이 1이 될때까지 1번 혹은 2번의 과정을 수행해야 하는 횟수의 최솟값을 출력한다."
      ],
      "metadata": {
        "id": "DRNq1NdICtDZ"
      }
    },
    {
      "cell_type": "code",
      "source": [
        "# 입력예시\n",
        "25 5\n",
        "\n",
        "# 출력\n",
        "2"
      ],
      "metadata": {
        "id": "6l0hchkACvGQ"
      },
      "execution_count": null,
      "outputs": []
    },
    {
      "cell_type": "code",
      "source": [
        "n, k = map(int, input().split())\n",
        "result = 0\n",
        "\n",
        "while n >= k :\n",
        "    while n % k != 0:\n",
        "        n -= 1\n",
        "        result +=1\n",
        "\n",
        "    n //= k\n",
        "    result += 1\n",
        "\n",
        "\n",
        "while n > 1:\n",
        "    n -= 1\n",
        "    result += 1\n",
        "\n",
        "print(result)"
      ],
      "metadata": {
        "id": "nJhaXonSC5IM"
      },
      "execution_count": null,
      "outputs": []
    },
    {
      "cell_type": "markdown",
      "source": [
        "# 구현 (시뮬레이션)\n",
        "- 아이디어 -> 코드로 구현  시뮬레이션 + 제약조건\n",
        "    - 완전탐색 : 모든 경우의 수를 계산해보는 문제\n",
        "    - 시뮬레이션 : 문제에서 제시되는 모든 알고리즘/조건 수행"
      ],
      "metadata": {
        "id": "Rawzr7SODfjX"
      }
    },
    {
      "cell_type": "markdown",
      "source": [
        "[문제 1.]\n",
        "\n",
        "정수 N 입력되면 00시 00분 00초에서 N시 59분 59초까지의 모든 시각 중에 3이 하나라도 표시되는 모든 경우의 수를 구하는 프로그램을 작성하시오.\n",
        "\n",
        "입력조건\n",
        "- 첫째 줄에 정수 N 입력(0 <= N <= 23)\n",
        "\n",
        "출력조건\n",
        "-  00시 00분 00초에서 N시 59분 59초까지의 모든 시각 중에 3이 하나라도 표시되는 모든 경우의 수"
      ],
      "metadata": {
        "id": "cjZ1RBd5Dh9I"
      }
    },
    {
      "cell_type": "code",
      "source": [
        "# 수학접 접근법 : 포함-배제 원리 활용\n",
        "# def marked_three(N: int):\n",
        "#   case = 0\n",
        "#   sec_three = 5 + 10\n",
        "#   sec_non_three = 60 - sec_three\n",
        "\n",
        "#   min_three =\n",
        "\n",
        "#   result = sec_three +\n",
        "\n",
        "# 각 단위별 3의 개수를 세는 함수\n",
        "def check_three(n: int) -> bool:\n",
        "  if '3' in str(n):\n",
        "    return True\n",
        "  return False\n",
        "\n",
        "# 모든 경우의 수 연산 함수\n",
        "def marked_three(N: int) -> int:\n",
        "  count = 0\n",
        "  for i in range(N+1):\n",
        "    for j in range(60):\n",
        "      for k in range(60):\n",
        "        if check_three(i) or check_three(j) or check_three(k):\n",
        "          count += 1\n",
        "  return count\n",
        "\n",
        "print(marked_three(3))"
      ],
      "metadata": {
        "colab": {
          "base_uri": "https://localhost:8080/"
        },
        "id": "GGmD2gtjDqcY",
        "outputId": "d93ea50e-57fb-46b2-f86f-c9e6f94c792c"
      },
      "execution_count": 17,
      "outputs": [
        {
          "output_type": "stream",
          "name": "stdout",
          "text": [
            "8325\n"
          ]
        }
      ]
    },
    {
      "cell_type": "code",
      "source": [
        "# 수학적으로 접근 : 포함-배제 원리 활용\n",
        "\n",
        "def count_three_in_range(n: int) -> int:\n",
        "    \"\"\"0부터 n까지 3이 포함된 숫자의 개수를 세는 함수\"\"\"\n",
        "    count = 0\n",
        "    for i in range(n + 1):\n",
        "        if '3' in str(i):\n",
        "            count += 1\n",
        "    return count\n",
        "\n",
        "def marked_three(N: int) -> int:\n",
        "    \"\"\"00시 00분 00초부터 N시 59분 59초까지 3이 포함된 시각의 개수\"\"\"\n",
        "\n",
        "    # 각 자리수별 3이 포함되는 경우의 수 계산\n",
        "    hour_count = count_three_in_range(N)  # 시\n",
        "    min_count = count_three_in_range(59)  # 분\n",
        "    sec_count = count_three_in_range(59)  # 초\n",
        "\n",
        "    # 중복 경우 제거 (포함-배제 원리)\n",
        "    hour_min_count = hour_count * min_count\n",
        "    hour_sec_count = hour_count * sec_count\n",
        "    min_sec_count = min_count * sec_count\n",
        "    all_three_count = hour_count * min_count * sec_count\n",
        "\n",
        "    total_count = (\n",
        "        hour_count * (60 * 60) +  # 시에 3이 포함되는 경우\n",
        "        min_count * (60 * (N + 1)) +  # 분에 3이 포함되는 경우\n",
        "        sec_count * (60 * (N + 1)) -  # 초에 3이 포함되는 경우\n",
        "        hour_min_count * 60 -  # 시, 분에 모두 3이 포함되는 경우 (중복 제거)\n",
        "        hour_sec_count * 60 -  # 시, 초에 모두 3이 포함되는 경우 (중복 제거)\n",
        "        min_sec_count * (N + 1) +  # 분, 초에 모두 3이 포함되는 경우 (중복 제거)\n",
        "        all_three_count  # 시, 분, 초 모두 3이 포함되는 경우 (다시 더함)\n",
        "    )\n",
        "\n",
        "    return total_count\n",
        "\n",
        "print(marked_three(3))  # 결과: 1375"
      ],
      "metadata": {
        "colab": {
          "base_uri": "https://localhost:8080/"
        },
        "id": "g4UH1QlqWSqJ",
        "outputId": "5afdec73-a305-439e-abb4-272bc4e7f909"
      },
      "execution_count": 14,
      "outputs": [
        {
          "output_type": "stream",
          "name": "stdout",
          "text": [
            "8325\n"
          ]
        }
      ]
    },
    {
      "cell_type": "markdown",
      "source": [
        "[문제 2]\n",
        "\n",
        "여행가 A 가 N*M 크기의 정사각형 공간 위에 서 있다.\n",
        "이 공간은 1*1 크기의 정사각형으로 나누어져 있다.\n",
        "\n",
        "가장 왼쪽 위 좌표가 (1,1) 가장 오른쪽 아래 좌표가 (N,N)이다.\n",
        "\n",
        "A는 상,하,좌,우로 이동할 수 있다.\n",
        "\n",
        "시작 좌표는 (1,1)\n",
        "\n",
        "여행 계획서가 입력으로 주어졌을 때 (L, R, U, D) 목표한 지점으로 이동해야 한다.\n",
        "\n",
        "단, 공간을 벗어나는 계획은 무시된다.\n",
        "\n",
        "계획서가 주어졌을 때 최종적으로 A가 도착하는 곳의 좌표를 출력하라."
      ],
      "metadata": {
        "id": "fAma6N1PDpda"
      }
    },
    {
      "cell_type": "code",
      "source": [],
      "metadata": {
        "id": "QBWWcZR1DfO-"
      },
      "execution_count": null,
      "outputs": []
    }
  ]
}